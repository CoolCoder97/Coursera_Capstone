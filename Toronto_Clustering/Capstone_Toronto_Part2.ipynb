{
 "cells": [
  {
   "cell_type": "markdown",
   "metadata": {},
   "source": [
    "# Getting Latitude & Longitude details"
   ]
  },
  {
   "cell_type": "markdown",
   "metadata": {},
   "source": [
    "### Below cell is from previous notebook."
   ]
  },
  {
   "cell_type": "code",
   "execution_count": null,
   "metadata": {},
   "outputs": [],
   "source": [
    "import pandas as pd\n",
    "import requests\n",
    "from bs4 import BeautifulSoup \n",
    "\n",
    "url=\"https://en.wikipedia.org/wiki/List_of_postal_codes_of_Canada:_M\"\n",
    "website_as_html = requests.get(url).text\n",
    "soup = BeautifulSoup(website_as_html,'lxml')\n",
    "my_table = soup.find('table',{'class':'wikitable sortable'})\n",
    "tr_tag_data=my_table.findAll('tr')\n",
    "data={'PostalCode':[],'Borough':[],'Neighborhood':[]}\n",
    "for i in tr_tag_data[1:]:\n",
    "    row=i.text.split('\\n')[1:-1]\n",
    "    if row[1]=='Not assigned':\n",
    "        continue\n",
    "    elif row[2]=='Not assigned':\n",
    "        data['Neighborhood'].append(row[1])\n",
    "    else:\n",
    "        data['Neighborhood'].append(row[2])\n",
    "        \n",
    "    data['PostalCode'].append(row[0])\n",
    "    data['Borough'].append(row[1])\n",
    "\n",
    "df=pd.DataFrame(data)\n",
    "toronto_data=df.sort_values(['PostalCode']).reset_index(drop=True)\n",
    "toronto_data=toronto_data.groupby(['PostalCode','Borough'], as_index=False).agg(', '.join)\n",
    "toronto_data.head()"
   ]
  },
  {
   "cell_type": "markdown",
   "metadata": {},
   "source": [
    "### This cell is to find coordinates using _geocoder_, but it's not working for me"
   ]
  },
  {
   "cell_type": "code",
   "execution_count": null,
   "metadata": {},
   "outputs": [],
   "source": [
    "# import geocoder \n",
    "\n",
    "# lat=[]\n",
    "# lon=[]\n",
    "# postalcodes=toronto_data['PostalCode'].tolist()\n",
    "\n",
    "# for code in postalcodes:\n",
    "#     lat_lng_coords = None\n",
    "#     \n",
    "#     while(lat_lng_coords is None):\n",
    "#       \n",
    "#         g = geocoder.google('{}, Toronto, Ontario'.format(code))\n",
    "#         lat_lng_coords = g.latlng\n",
    "\n",
    "#     lat.append(lat_lng_coords[0])\n",
    "#     lon.append(lat_lng_coords[1])\n",
    "#     print(lat_lng_coords[0],lat_lng_coords[1])\n",
    "    \n",
    "# for lat,lon in zip (lat,lon):\n",
    "#     print(lat,lon)"
   ]
  },
  {
   "cell_type": "markdown",
   "metadata": {},
   "source": [
    "### Therefore, I'm using the provided _.csv_ file"
   ]
  },
  {
   "cell_type": "code",
   "execution_count": null,
   "metadata": {},
   "outputs": [],
   "source": [
    "coodinates=pd.read_csv('Lat_Lng.csv')\n",
    "coodinates.head()"
   ]
  },
  {
   "cell_type": "markdown",
   "metadata": {},
   "source": [
    "## Finally merging both the df into single one to get desired df"
   ]
  },
  {
   "cell_type": "code",
   "execution_count": null,
   "metadata": {},
   "outputs": [],
   "source": [
    "toronto_dataset=pd.merge(toronto_data, coodinates, on='PostalCode')\n",
    "toronto_dataset.head()"
   ]
  }
 ],
 "metadata": {
  "kernelspec": {
   "display_name": "Python 3",
   "language": "python",
   "name": "python3"
  },
  "language_info": {
   "codemirror_mode": {
    "name": "ipython",
    "version": 3
   },
   "file_extension": ".py",
   "mimetype": "text/x-python",
   "name": "python",
   "nbconvert_exporter": "python",
   "pygments_lexer": "ipython3",
   "version": "3.6.8"
  }
 },
 "nbformat": 4,
 "nbformat_minor": 2
}
